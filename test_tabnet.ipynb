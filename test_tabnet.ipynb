{
 "cells": [
  {
   "cell_type": "code",
   "execution_count": 1,
   "id": "410463e4-d123-40f9-b52e-6c845ae5d26b",
   "metadata": {},
   "outputs": [
    {
     "name": "stdout",
     "output_type": "stream",
     "text": [
      "True\n",
      "NVIDIA GeForce RTX 4050 Laptop GPU\n"
     ]
    }
   ],
   "source": [
    "import torch\n",
    "print(torch.cuda.is_available())  # должно быть True\n",
    "print(torch.cuda.get_device_name(0))  # покажет название GPU (RTX 4050)\n"
   ]
  },
  {
   "cell_type": "code",
   "execution_count": 8,
   "id": "ae695536-41a1-4bff-b6b7-5f126e6744b1",
   "metadata": {},
   "outputs": [
    {
     "name": "stdout",
     "output_type": "stream",
     "text": [
      "            Open_Time       Open       High        Low      Close      Volume  \\\n",
      "0 2025-02-01 00:00:00  102429.56  102783.71  102198.52  102249.19  1810.34285   \n",
      "1 2025-02-01 04:00:00  102249.19  102588.57  102118.56  102166.49  1052.21801   \n",
      "2 2025-02-01 08:00:00  102166.49  102276.99  101412.00  102028.81  2029.14504   \n",
      "3 2025-02-01 12:00:00  102028.82  102329.01  101730.79  102073.89  1704.67519   \n",
      "4 2025-02-01 16:00:00  102073.89  102297.99  101448.00  101669.60  1472.58058   \n",
      "\n",
      "               Close_Time  Quote_Asset_Volume  Number_of_Trades  \\\n",
      "0 2025-02-01 03:59:59.999        1.855825e+08            336147   \n",
      "1 2025-02-01 07:59:59.999        1.077009e+08            228096   \n",
      "2 2025-02-01 11:59:59.999        2.066930e+08            418187   \n",
      "3 2025-02-01 15:59:59.999        1.740051e+08            385831   \n",
      "4 2025-02-01 19:59:59.999        1.501242e+08            389744   \n",
      "\n",
      "   Taker_Buy_Volume  Taker_Buy_Quote_Volume  \n",
      "0         985.25105            1.010047e+08  \n",
      "1         511.25891            5.232996e+07  \n",
      "2         804.83163            8.197580e+07  \n",
      "3         854.36304            8.721946e+07  \n",
      "4         644.31801            6.570565e+07  \n"
     ]
    }
   ],
   "source": [
    "import pandas as pd\n",
    "\n",
    "# Загрузка файла с назначением имен колонкам\n",
    "df = pd.read_csv('dataset_normalized.csv', names=[\n",
    "    'Open_Time', 'Open', 'High', 'Low', 'Close', 'Volume',\n",
    "    'Close_Time', 'Quote_Asset_Volume', 'Number_of_Trades',\n",
    "    'Taker_Buy_Volume', 'Taker_Buy_Quote_Volume'\n",
    "])\n",
    "\n",
    "# Преобразование временных меток в нормальный формат даты и времени\n",
    "df['Open_Time'] = pd.to_datetime(df['Open_Time'], unit='ms')\n",
    "df['Close_Time'] = pd.to_datetime(df['Close_Time'], unit='ms')\n",
    "\n",
    "# Просмотр первых строк\n",
    "print(df.head())"
   ]
  },
  {
   "cell_type": "code",
   "execution_count": 10,
   "id": "50f09356-1003-4add-83f2-0b4b4aafd2fd",
   "metadata": {},
   "outputs": [
    {
     "name": "stdout",
     "output_type": "stream",
     "text": [
      "       Open_Time       Open       High        Low      Close      Volume  \\\n",
      "0  1738368000000  102429.56  102783.71  102198.52  102249.19  1810.34285   \n",
      "1  1738382400000  102249.19  102588.57  102118.56  102166.49  1052.21801   \n",
      "2  1738396800000  102166.49  102276.99  101412.00  102028.81  2029.14504   \n",
      "3  1738411200000  102028.82  102329.01  101730.79  102073.89  1704.67519   \n",
      "4  1738425600000  102073.89  102297.99  101448.00  101669.60  1472.58058   \n",
      "\n",
      "      Close_Time  Quote_Asset_Volume  Number_of_Trades  Taker_Buy_Volume  \\\n",
      "0  1738382399999        1.855825e+08            336147         985.25105   \n",
      "1  1738396799999        1.077009e+08            228096         511.25891   \n",
      "2  1738411199999        2.066930e+08            418187         804.83163   \n",
      "3  1738425599999        1.740051e+08            385831         854.36304   \n",
      "4  1738439999999        1.501242e+08            389744         644.31801   \n",
      "\n",
      "   Taker_Buy_Quote_Volume  target  \n",
      "0            1.010047e+08       2  \n",
      "1            5.232996e+07       2  \n",
      "2            8.197580e+07       2  \n",
      "3            8.721946e+07       2  \n",
      "4            6.570565e+07       1  \n"
     ]
    }
   ],
   "source": [
    "import pandas as pd\n",
    "\n",
    "df = pd.read_csv('dataset_normalized.csv', names=[\n",
    "    'Open_Time', 'Open', 'High', 'Low', 'Close', 'Volume',\n",
    "    'Close_Time', 'Quote_Asset_Volume', 'Number_of_Trades',\n",
    "    'Taker_Buy_Volume', 'Taker_Buy_Quote_Volume'\n",
    "])\n",
    "\n",
    "# рассчитываем процент изменения цены закрытия относительно следующего периода\n",
    "# т.е. насколько изменится цена на следующей свече (сдвиг вверх на -1)\n",
    "df['price_change_pct'] = df['Close'].pct_change().shift(-1) * 100\n",
    "\n",
    "# определяем функцию для классификации изменения цены в target\n",
    "def classify_change(change):\n",
    "    if change >= 0.75:\n",
    "        return 0  # рост цены >= 0.75%\n",
    "    elif change <= -0.75:\n",
    "        return 1  # падение цены <= -0.75%\n",
    "    else:\n",
    "        return 2  # нейтральное изменение\n",
    "\n",
    "df['target'] = df['price_change_pct'].apply(classify_change)\n",
    "\n",
    "df.dropna(subset=['price_change_pct'], inplace=True)\n",
    "\n",
    "df.drop(columns=['price_change_pct'], inplace=True)\n",
    "\n",
    "df.to_csv('dataset_with_target.csv', index=False)\n",
    "\n",
    "print(df.head())\n",
    "\n"
   ]
  },
  {
   "cell_type": "code",
   "execution_count": 18,
   "id": "354ee177-8680-4849-9993-b2a3bbb9cc59",
   "metadata": {},
   "outputs": [
    {
     "name": "stderr",
     "output_type": "stream",
     "text": [
      "/usr/local/lib/python3.12/dist-packages/pytorch_tabnet/abstract_model.py:82: UserWarning: Device used : cuda\n",
      "  warnings.warn(f\"Device used : {self.device}\")\n",
      "/usr/local/lib/python3.12/dist-packages/pytorch_tabnet/multiclass_utils.py:337: RuntimeWarning: invalid value encountered in cast\n",
      "  if y.dtype.kind == \"f\" and np.any(y != y.astype(int)):\n"
     ]
    },
    {
     "ename": "ValueError",
     "evalue": "Input contains NaN, infinity or a value too large for dtype('float64').",
     "output_type": "error",
     "traceback": [
      "\u001b[31m---------------------------------------------------------------------------\u001b[39m",
      "\u001b[31mValueError\u001b[39m                                Traceback (most recent call last)",
      "\u001b[36mCell\u001b[39m\u001b[36m \u001b[39m\u001b[32mIn[18]\u001b[39m\u001b[32m, line 17\u001b[39m\n\u001b[32m     14\u001b[39m X_train, X_test, y_train, y_test = train_test_split(X, y, test_size=\u001b[32m0.2\u001b[39m, shuffle=\u001b[38;5;28;01mFalse\u001b[39;00m)\n\u001b[32m     16\u001b[39m clf = TabNetClassifier()\n\u001b[32m---> \u001b[39m\u001b[32m17\u001b[39m \u001b[43mclf\u001b[49m\u001b[43m.\u001b[49m\u001b[43mfit\u001b[49m\u001b[43m(\u001b[49m\u001b[43mX_train\u001b[49m\u001b[43m.\u001b[49m\u001b[43mvalues\u001b[49m\u001b[43m,\u001b[49m\u001b[43m \u001b[49m\u001b[43my_train\u001b[49m\u001b[43m.\u001b[49m\u001b[43mvalues\u001b[49m\u001b[43m,\u001b[49m\n\u001b[32m     18\u001b[39m \u001b[43m        \u001b[49m\u001b[43meval_set\u001b[49m\u001b[43m=\u001b[49m\u001b[43m[\u001b[49m\u001b[43m(\u001b[49m\u001b[43mX_test\u001b[49m\u001b[43m.\u001b[49m\u001b[43mvalues\u001b[49m\u001b[43m,\u001b[49m\u001b[43m \u001b[49m\u001b[43my_test\u001b[49m\u001b[43m.\u001b[49m\u001b[43mvalues\u001b[49m\u001b[43m)\u001b[49m\u001b[43m]\u001b[49m\u001b[43m,\u001b[49m\n\u001b[32m     19\u001b[39m \u001b[43m        \u001b[49m\u001b[43mmax_epochs\u001b[49m\u001b[43m=\u001b[49m\u001b[32;43m100\u001b[39;49m\u001b[43m,\u001b[49m\n\u001b[32m     20\u001b[39m \u001b[43m        \u001b[49m\u001b[43mpatience\u001b[49m\u001b[43m=\u001b[49m\u001b[32;43m20\u001b[39;49m\u001b[43m,\u001b[49m\n\u001b[32m     21\u001b[39m \u001b[43m        \u001b[49m\u001b[43mbatch_size\u001b[49m\u001b[43m=\u001b[49m\u001b[32;43m1024\u001b[39;49m\u001b[43m,\u001b[49m\n\u001b[32m     22\u001b[39m \u001b[43m        \u001b[49m\u001b[43mvirtual_batch_size\u001b[49m\u001b[43m=\u001b[49m\u001b[32;43m128\u001b[39;49m\u001b[43m)\u001b[49m\n",
      "\u001b[36mFile \u001b[39m\u001b[32m/usr/local/lib/python3.12/dist-packages/pytorch_tabnet/abstract_model.py:220\u001b[39m, in \u001b[36mTabModel.fit\u001b[39m\u001b[34m(self, X_train, y_train, eval_set, eval_name, eval_metric, loss_fn, weights, max_epochs, patience, batch_size, virtual_batch_size, num_workers, drop_last, callbacks, pin_memory, from_unsupervised, warm_start, augmentations, compute_importance)\u001b[39m\n\u001b[32m    217\u001b[39m check_input(X_train)\n\u001b[32m    218\u001b[39m check_warm_start(warm_start, from_unsupervised)\n\u001b[32m--> \u001b[39m\u001b[32m220\u001b[39m \u001b[38;5;28;43mself\u001b[39;49m\u001b[43m.\u001b[49m\u001b[43mupdate_fit_params\u001b[49m\u001b[43m(\u001b[49m\n\u001b[32m    221\u001b[39m \u001b[43m    \u001b[49m\u001b[43mX_train\u001b[49m\u001b[43m,\u001b[49m\n\u001b[32m    222\u001b[39m \u001b[43m    \u001b[49m\u001b[43my_train\u001b[49m\u001b[43m,\u001b[49m\n\u001b[32m    223\u001b[39m \u001b[43m    \u001b[49m\u001b[43meval_set\u001b[49m\u001b[43m,\u001b[49m\n\u001b[32m    224\u001b[39m \u001b[43m    \u001b[49m\u001b[43mweights\u001b[49m\u001b[43m,\u001b[49m\n\u001b[32m    225\u001b[39m \u001b[43m\u001b[49m\u001b[43m)\u001b[49m\n\u001b[32m    227\u001b[39m \u001b[38;5;66;03m# Validate and reformat eval set depending on training data\u001b[39;00m\n\u001b[32m    228\u001b[39m eval_names, eval_set = validate_eval_set(eval_set, eval_name, X_train, y_train)\n",
      "\u001b[36mFile \u001b[39m\u001b[32m/usr/local/lib/python3.12/dist-packages/pytorch_tabnet/tab_model.py:53\u001b[39m, in \u001b[36mTabNetClassifier.update_fit_params\u001b[39m\u001b[34m(self, X_train, y_train, eval_set, weights)\u001b[39m\n\u001b[32m     46\u001b[39m \u001b[38;5;28;01mdef\u001b[39;00m\u001b[38;5;250m \u001b[39m\u001b[34mupdate_fit_params\u001b[39m(\n\u001b[32m     47\u001b[39m     \u001b[38;5;28mself\u001b[39m,\n\u001b[32m     48\u001b[39m     X_train,\n\u001b[32m   (...)\u001b[39m\u001b[32m     51\u001b[39m     weights,\n\u001b[32m     52\u001b[39m ):\n\u001b[32m---> \u001b[39m\u001b[32m53\u001b[39m     output_dim, train_labels = \u001b[43minfer_output_dim\u001b[49m\u001b[43m(\u001b[49m\u001b[43my_train\u001b[49m\u001b[43m)\u001b[49m\n\u001b[32m     54\u001b[39m     \u001b[38;5;28;01mfor\u001b[39;00m X, y \u001b[38;5;129;01min\u001b[39;00m eval_set:\n\u001b[32m     55\u001b[39m         check_output_dim(train_labels, y)\n",
      "\u001b[36mFile \u001b[39m\u001b[32m/usr/local/lib/python3.12/dist-packages/pytorch_tabnet/multiclass_utils.py:373\u001b[39m, in \u001b[36minfer_output_dim\u001b[39m\u001b[34m(y_train)\u001b[39m\n\u001b[32m    357\u001b[39m \u001b[38;5;250m\u001b[39m\u001b[33;03m\"\"\"\u001b[39;00m\n\u001b[32m    358\u001b[39m \u001b[33;03mInfer output_dim from targets\u001b[39;00m\n\u001b[32m    359\u001b[39m \n\u001b[32m   (...)\u001b[39m\u001b[32m    370\u001b[39m \u001b[33;03m    Sorted list of initial classes\u001b[39;00m\n\u001b[32m    371\u001b[39m \u001b[33;03m\"\"\"\u001b[39;00m\n\u001b[32m    372\u001b[39m check_unique_type(y_train)\n\u001b[32m--> \u001b[39m\u001b[32m373\u001b[39m train_labels = \u001b[43munique_labels\u001b[49m\u001b[43m(\u001b[49m\u001b[43my_train\u001b[49m\u001b[43m)\u001b[49m\n\u001b[32m    374\u001b[39m output_dim = \u001b[38;5;28mlen\u001b[39m(train_labels)\n\u001b[32m    376\u001b[39m \u001b[38;5;28;01mreturn\u001b[39;00m output_dim, train_labels\n",
      "\u001b[36mFile \u001b[39m\u001b[32m/usr/local/lib/python3.12/dist-packages/pytorch_tabnet/multiclass_utils.py:120\u001b[39m, in \u001b[36munique_labels\u001b[39m\u001b[34m(*ys)\u001b[39m\n\u001b[32m    117\u001b[39m     \u001b[38;5;28;01mraise\u001b[39;00m \u001b[38;5;167;01mValueError\u001b[39;00m(\u001b[33m\"\u001b[39m\u001b[33mNo argument has been passed.\u001b[39m\u001b[33m\"\u001b[39m)\n\u001b[32m    118\u001b[39m \u001b[38;5;66;03m# Check that we don't mix label format\u001b[39;00m\n\u001b[32m--> \u001b[39m\u001b[32m120\u001b[39m ys_types = \u001b[38;5;28;43mset\u001b[39;49m\u001b[43m(\u001b[49m\u001b[43mtype_of_target\u001b[49m\u001b[43m(\u001b[49m\u001b[43mx\u001b[49m\u001b[43m)\u001b[49m\u001b[43m \u001b[49m\u001b[38;5;28;43;01mfor\u001b[39;49;00m\u001b[43m \u001b[49m\u001b[43mx\u001b[49m\u001b[43m \u001b[49m\u001b[38;5;129;43;01min\u001b[39;49;00m\u001b[43m \u001b[49m\u001b[43mys\u001b[49m\u001b[43m)\u001b[49m\n\u001b[32m    121\u001b[39m \u001b[38;5;28;01mif\u001b[39;00m ys_types == {\u001b[33m\"\u001b[39m\u001b[33mbinary\u001b[39m\u001b[33m\"\u001b[39m, \u001b[33m\"\u001b[39m\u001b[33mmulticlass\u001b[39m\u001b[33m\"\u001b[39m}:\n\u001b[32m    122\u001b[39m     ys_types = {\u001b[33m\"\u001b[39m\u001b[33mmulticlass\u001b[39m\u001b[33m\"\u001b[39m}\n",
      "\u001b[36mFile \u001b[39m\u001b[32m/usr/local/lib/python3.12/dist-packages/pytorch_tabnet/multiclass_utils.py:120\u001b[39m, in \u001b[36m<genexpr>\u001b[39m\u001b[34m(.0)\u001b[39m\n\u001b[32m    117\u001b[39m     \u001b[38;5;28;01mraise\u001b[39;00m \u001b[38;5;167;01mValueError\u001b[39;00m(\u001b[33m\"\u001b[39m\u001b[33mNo argument has been passed.\u001b[39m\u001b[33m\"\u001b[39m)\n\u001b[32m    118\u001b[39m \u001b[38;5;66;03m# Check that we don't mix label format\u001b[39;00m\n\u001b[32m--> \u001b[39m\u001b[32m120\u001b[39m ys_types = \u001b[38;5;28mset\u001b[39m(\u001b[43mtype_of_target\u001b[49m\u001b[43m(\u001b[49m\u001b[43mx\u001b[49m\u001b[43m)\u001b[49m \u001b[38;5;28;01mfor\u001b[39;00m x \u001b[38;5;129;01min\u001b[39;00m ys)\n\u001b[32m    121\u001b[39m \u001b[38;5;28;01mif\u001b[39;00m ys_types == {\u001b[33m\"\u001b[39m\u001b[33mbinary\u001b[39m\u001b[33m\"\u001b[39m, \u001b[33m\"\u001b[39m\u001b[33mmulticlass\u001b[39m\u001b[33m\"\u001b[39m}:\n\u001b[32m    122\u001b[39m     ys_types = {\u001b[33m\"\u001b[39m\u001b[33mmulticlass\u001b[39m\u001b[33m\"\u001b[39m}\n",
      "\u001b[36mFile \u001b[39m\u001b[32m/usr/local/lib/python3.12/dist-packages/pytorch_tabnet/multiclass_utils.py:339\u001b[39m, in \u001b[36mtype_of_target\u001b[39m\u001b[34m(y)\u001b[39m\n\u001b[32m    336\u001b[39m \u001b[38;5;66;03m# check float and contains non-integer float values\u001b[39;00m\n\u001b[32m    337\u001b[39m \u001b[38;5;28;01mif\u001b[39;00m y.dtype.kind == \u001b[33m\"\u001b[39m\u001b[33mf\u001b[39m\u001b[33m\"\u001b[39m \u001b[38;5;129;01mand\u001b[39;00m np.any(y != y.astype(\u001b[38;5;28mint\u001b[39m)):\n\u001b[32m    338\u001b[39m     \u001b[38;5;66;03m# [.1, .2, 3] or [[.1, .2, 3]] or [[1., .2]] and not [1., 2., 3.]\u001b[39;00m\n\u001b[32m--> \u001b[39m\u001b[32m339\u001b[39m     \u001b[43m_assert_all_finite\u001b[49m\u001b[43m(\u001b[49m\u001b[43my\u001b[49m\u001b[43m)\u001b[49m\n\u001b[32m    340\u001b[39m     \u001b[38;5;28;01mreturn\u001b[39;00m \u001b[33m\"\u001b[39m\u001b[33mcontinuous\u001b[39m\u001b[33m\"\u001b[39m + suffix\n\u001b[32m    342\u001b[39m \u001b[38;5;28;01mif\u001b[39;00m (\u001b[38;5;28mlen\u001b[39m(np.unique(y)) > \u001b[32m2\u001b[39m) \u001b[38;5;129;01mor\u001b[39;00m (y.ndim >= \u001b[32m2\u001b[39m \u001b[38;5;129;01mand\u001b[39;00m \u001b[38;5;28mlen\u001b[39m(y[\u001b[32m0\u001b[39m]) > \u001b[32m1\u001b[39m):\n",
      "\u001b[36mFile \u001b[39m\u001b[32m/usr/local/lib/python3.12/dist-packages/pytorch_tabnet/multiclass_utils.py:42\u001b[39m, in \u001b[36m_assert_all_finite\u001b[39m\u001b[34m(X, allow_nan)\u001b[39m\n\u001b[32m     35\u001b[39m     \u001b[38;5;28;01mif\u001b[39;00m (\n\u001b[32m     36\u001b[39m         allow_nan\n\u001b[32m     37\u001b[39m         \u001b[38;5;129;01mand\u001b[39;00m np.isinf(X).any()\n\u001b[32m     38\u001b[39m         \u001b[38;5;129;01mor\u001b[39;00m \u001b[38;5;129;01mnot\u001b[39;00m allow_nan\n\u001b[32m     39\u001b[39m         \u001b[38;5;129;01mand\u001b[39;00m \u001b[38;5;129;01mnot\u001b[39;00m np.isfinite(X).all()\n\u001b[32m     40\u001b[39m     ):\n\u001b[32m     41\u001b[39m         type_err = \u001b[33m\"\u001b[39m\u001b[33minfinity\u001b[39m\u001b[33m\"\u001b[39m \u001b[38;5;28;01mif\u001b[39;00m allow_nan \u001b[38;5;28;01melse\u001b[39;00m \u001b[33m\"\u001b[39m\u001b[33mNaN, infinity\u001b[39m\u001b[33m\"\u001b[39m\n\u001b[32m---> \u001b[39m\u001b[32m42\u001b[39m         \u001b[38;5;28;01mraise\u001b[39;00m \u001b[38;5;167;01mValueError\u001b[39;00m(msg_err.format(type_err, X.dtype))\n\u001b[32m     43\u001b[39m \u001b[38;5;66;03m# for object dtype data, we only check for NaNs (GH-13254)\u001b[39;00m\n\u001b[32m     44\u001b[39m \u001b[38;5;28;01melif\u001b[39;00m X.dtype == np.dtype(\u001b[33m\"\u001b[39m\u001b[33mobject\u001b[39m\u001b[33m\"\u001b[39m) \u001b[38;5;129;01mand\u001b[39;00m \u001b[38;5;129;01mnot\u001b[39;00m allow_nan:\n",
      "\u001b[31mValueError\u001b[39m: Input contains NaN, infinity or a value too large for dtype('float64')."
     ]
    }
   ],
   "source": [
    "from sklearn.model_selection import train_test_split\n",
    "from pytorch_tabnet.tab_model import TabNetClassifier\n",
    "import pandas as pd\n",
    "\n",
    "df = pd.read_csv('dataset_normalized.csv', names=[\n",
    "    'Open_Time', 'Open', 'High', 'Low', 'Close', 'Volume',\n",
    "    'Close_Time', 'Quote_Asset_Volume', 'Number_of_Trades',\n",
    "    'Taker_Buy_Volume', 'Taker_Buy_Quote_Volume', 'target'\n",
    "])\n",
    "\n",
    "X = df.drop(columns=['target'])\n",
    "y = df['target']\n",
    "\n",
    "X_train, X_test, y_train, y_test = train_test_split(X, y, test_size=0.2, shuffle=False)\n",
    "\n",
    "clf = TabNetClassifier()\n",
    "clf.fit(X_train.values, y_train.values,\n",
    "        eval_set=[(X_test.values, y_test.values)],\n",
    "        max_epochs=100,\n",
    "        patience=20,\n",
    "        batch_size=1024,\n",
    "        virtual_batch_size=128)"
   ]
  },
  {
   "cell_type": "code",
   "execution_count": null,
   "id": "8656cf5f-29a0-4675-9735-ad3fe7d8a9fb",
   "metadata": {},
   "outputs": [],
   "source": []
  }
 ],
 "metadata": {
  "kernelspec": {
   "display_name": "Python 3 (ipykernel)",
   "language": "python",
   "name": "python3"
  },
  "language_info": {
   "codemirror_mode": {
    "name": "ipython",
    "version": 3
   },
   "file_extension": ".py",
   "mimetype": "text/x-python",
   "name": "python",
   "nbconvert_exporter": "python",
   "pygments_lexer": "ipython3",
   "version": "3.12.3"
  }
 },
 "nbformat": 4,
 "nbformat_minor": 5
}
