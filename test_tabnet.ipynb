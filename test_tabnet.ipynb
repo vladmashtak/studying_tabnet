{
 "cells": [
  {
   "cell_type": "code",
   "execution_count": 1,
   "id": "410463e4-d123-40f9-b52e-6c845ae5d26b",
   "metadata": {},
   "outputs": [
    {
     "name": "stdout",
     "output_type": "stream",
     "text": [
      "True\n",
      "NVIDIA GeForce RTX 4050 Laptop GPU\n"
     ]
    }
   ],
   "source": [
    "import torch\n",
    "print(torch.cuda.is_available())  # должно быть True\n",
    "print(torch.cuda.get_device_name(0))  # покажет название GPU (RTX 4050)\n"
   ]
  },
  {
   "cell_type": "code",
   "execution_count": 8,
   "id": "ae695536-41a1-4bff-b6b7-5f126e6744b1",
   "metadata": {},
   "outputs": [
    {
     "name": "stdout",
     "output_type": "stream",
     "text": [
      "            Open_Time       Open       High        Low      Close      Volume  \\\n",
      "0 2025-02-01 00:00:00  102429.56  102783.71  102198.52  102249.19  1810.34285   \n",
      "1 2025-02-01 04:00:00  102249.19  102588.57  102118.56  102166.49  1052.21801   \n",
      "2 2025-02-01 08:00:00  102166.49  102276.99  101412.00  102028.81  2029.14504   \n",
      "3 2025-02-01 12:00:00  102028.82  102329.01  101730.79  102073.89  1704.67519   \n",
      "4 2025-02-01 16:00:00  102073.89  102297.99  101448.00  101669.60  1472.58058   \n",
      "\n",
      "               Close_Time  Quote_Asset_Volume  Number_of_Trades  \\\n",
      "0 2025-02-01 03:59:59.999        1.855825e+08            336147   \n",
      "1 2025-02-01 07:59:59.999        1.077009e+08            228096   \n",
      "2 2025-02-01 11:59:59.999        2.066930e+08            418187   \n",
      "3 2025-02-01 15:59:59.999        1.740051e+08            385831   \n",
      "4 2025-02-01 19:59:59.999        1.501242e+08            389744   \n",
      "\n",
      "   Taker_Buy_Volume  Taker_Buy_Quote_Volume  \n",
      "0         985.25105            1.010047e+08  \n",
      "1         511.25891            5.232996e+07  \n",
      "2         804.83163            8.197580e+07  \n",
      "3         854.36304            8.721946e+07  \n",
      "4         644.31801            6.570565e+07  \n"
     ]
    }
   ],
   "source": [
    "import pandas as pd\n",
    "\n",
    "# Загрузка файла с назначением имен колонкам\n",
    "df = pd.read_csv('dataset_normalized.csv', names=[\n",
    "    'Open_Time', 'Open', 'High', 'Low', 'Close', 'Volume',\n",
    "    'Close_Time', 'Quote_Asset_Volume', 'Number_of_Trades',\n",
    "    'Taker_Buy_Volume', 'Taker_Buy_Quote_Volume'\n",
    "])\n",
    "\n",
    "# Преобразование временных меток в нормальный формат даты и времени\n",
    "df['Open_Time'] = pd.to_datetime(df['Open_Time'], unit='ms')\n",
    "df['Close_Time'] = pd.to_datetime(df['Close_Time'], unit='ms')\n",
    "\n",
    "# Просмотр первых строк\n",
    "print(df.head())"
   ]
  },
  {
   "cell_type": "code",
   "execution_count": 1,
   "id": "50f09356-1003-4add-83f2-0b4b4aafd2fd",
   "metadata": {},
   "outputs": [
    {
     "name": "stdout",
     "output_type": "stream",
     "text": [
      "       Open_Time       Open       High        Low      Close      Volume  \\\n",
      "0  1738368000000  102429.56  102783.71  102198.52  102249.19  1810.34285   \n",
      "1  1738382400000  102249.19  102588.57  102118.56  102166.49  1052.21801   \n",
      "2  1738396800000  102166.49  102276.99  101412.00  102028.81  2029.14504   \n",
      "3  1738411200000  102028.82  102329.01  101730.79  102073.89  1704.67519   \n",
      "4  1738425600000  102073.89  102297.99  101448.00  101669.60  1472.58058   \n",
      "\n",
      "      Close_Time  Quote_Asset_Volume  Number_of_Trades  Taker_Buy_Volume  \\\n",
      "0  1738382399999        1.855825e+08            336147         985.25105   \n",
      "1  1738396799999        1.077009e+08            228096         511.25891   \n",
      "2  1738411199999        2.066930e+08            418187         804.83163   \n",
      "3  1738425599999        1.740051e+08            385831         854.36304   \n",
      "4  1738439999999        1.501242e+08            389744         644.31801   \n",
      "\n",
      "   Taker_Buy_Quote_Volume  target  \n",
      "0            1.010047e+08       2  \n",
      "1            5.232996e+07       2  \n",
      "2            8.197580e+07       2  \n",
      "3            8.721946e+07       2  \n",
      "4            6.570565e+07       1  \n"
     ]
    }
   ],
   "source": [
    "import pandas as pd\n",
    "\n",
    "df = pd.read_csv('dataset_normalized.csv', names=[\n",
    "    'Open_Time', 'Open', 'High', 'Low', 'Close', 'Volume',\n",
    "    'Close_Time', 'Quote_Asset_Volume', 'Number_of_Trades',\n",
    "    'Taker_Buy_Volume', 'Taker_Buy_Quote_Volume'\n",
    "])\n",
    "\n",
    "# рассчитываем процент изменения цены закрытия относительно следующего периода\n",
    "# т.е. насколько изменится цена на следующей свече (сдвиг вверх на -1)\n",
    "df['price_change_pct'] = df['Close'].pct_change().shift(-1) * 100\n",
    "\n",
    "# определяем функцию для классификации изменения цены в target\n",
    "def classify_change(change):\n",
    "    if change >= 0.75:\n",
    "        return 0  # рост цены >= 0.75%\n",
    "    elif change <= -0.75:\n",
    "        return 1  # падение цены <= -0.75%\n",
    "    else:\n",
    "        return 2  # нейтральное изменение\n",
    "\n",
    "df['target'] = df['price_change_pct'].apply(classify_change)\n",
    "\n",
    "df.dropna(subset=['price_change_pct'], inplace=True)\n",
    "\n",
    "df.drop(columns=['price_change_pct'], inplace=True)\n",
    "\n",
    "df.to_csv('dataset_with_target.csv', index=False)\n",
    "\n",
    "print(df.head())\n",
    "\n"
   ]
  },
  {
   "cell_type": "code",
   "execution_count": 9,
   "id": "8656cf5f-29a0-4675-9735-ad3fe7d8a9fb",
   "metadata": {},
   "outputs": [
    {
     "name": "stderr",
     "output_type": "stream",
     "text": [
      "/usr/local/lib/python3.12/dist-packages/pytorch_tabnet/abstract_model.py:82: UserWarning: Device used : cuda\n",
      "  warnings.warn(f\"Device used : {self.device}\")\n"
     ]
    },
    {
     "name": "stdout",
     "output_type": "stream",
     "text": [
      "epoch 0  | loss: 0.98833 | val_0_accuracy: 0.52407 |  0:00:01s\n",
      "epoch 1  | loss: 0.89252 | val_0_accuracy: 0.52407 |  0:00:02s\n",
      "epoch 2  | loss: 0.88342 | val_0_accuracy: 0.23157 |  0:00:02s\n",
      "epoch 3  | loss: 0.87829 | val_0_accuracy: 0.52407 |  0:00:03s\n",
      "epoch 4  | loss: 0.87435 | val_0_accuracy: 0.52407 |  0:00:03s\n",
      "epoch 5  | loss: 0.87326 | val_0_accuracy: 0.52407 |  0:00:04s\n",
      "epoch 6  | loss: 0.87315 | val_0_accuracy: 0.52407 |  0:00:04s\n",
      "epoch 7  | loss: 0.86972 | val_0_accuracy: 0.52407 |  0:00:05s\n",
      "epoch 8  | loss: 0.86983 | val_0_accuracy: 0.52407 |  0:00:06s\n",
      "epoch 9  | loss: 0.87315 | val_0_accuracy: 0.52407 |  0:00:06s\n",
      "epoch 10 | loss: 0.86866 | val_0_accuracy: 0.52407 |  0:00:07s\n",
      "epoch 11 | loss: 0.8702  | val_0_accuracy: 0.52407 |  0:00:07s\n",
      "epoch 12 | loss: 0.86888 | val_0_accuracy: 0.52407 |  0:00:08s\n",
      "epoch 13 | loss: 0.8682  | val_0_accuracy: 0.52407 |  0:00:09s\n",
      "epoch 14 | loss: 0.86789 | val_0_accuracy: 0.52407 |  0:00:09s\n",
      "epoch 15 | loss: 0.86722 | val_0_accuracy: 0.52407 |  0:00:10s\n",
      "epoch 16 | loss: 0.86709 | val_0_accuracy: 0.52407 |  0:00:10s\n",
      "epoch 17 | loss: 0.87489 | val_0_accuracy: 0.52407 |  0:00:11s\n",
      "epoch 18 | loss: 0.86879 | val_0_accuracy: 0.52407 |  0:00:12s\n",
      "epoch 19 | loss: 0.86785 | val_0_accuracy: 0.52407 |  0:00:12s\n",
      "epoch 20 | loss: 0.86962 | val_0_accuracy: 0.52407 |  0:00:13s\n",
      "\n",
      "Early stopping occurred at epoch 20 with best_epoch = 0 and best_val_0_accuracy = 0.52407\n"
     ]
    },
    {
     "name": "stderr",
     "output_type": "stream",
     "text": [
      "/usr/local/lib/python3.12/dist-packages/pytorch_tabnet/callbacks.py:172: UserWarning: Best weights from best epoch are automatically used!\n",
      "  warnings.warn(wrn_msg)\n"
     ]
    }
   ],
   "source": [
    "from sklearn.model_selection import train_test_split\n",
    "from pytorch_tabnet.tab_model import TabNetClassifier\n",
    "import pandas as pd\n",
    "\n",
    "df = pd.read_csv('dataset_with_target.csv')\n",
    "\n",
    "X = df.drop(columns=['target'])\n",
    "y = df['target']\n",
    "\n",
    "X_train, X_test, y_train, y_test = train_test_split(X, y, test_size=0.2, shuffle=False)\n",
    "\n",
    "clf = TabNetClassifier()\n",
    "clf.fit(X_train.values, y_train.values,\n",
    "        eval_set=[(X_test.values, y_test.values)],\n",
    "        max_epochs=100,\n",
    "        patience=20,\n",
    "        batch_size=1024,\n",
    "        virtual_batch_size=128)"
   ]
  },
  {
   "cell_type": "code",
   "execution_count": null,
   "id": "4ce67f28-9cf5-4381-b510-49c7a995e97d",
   "metadata": {},
   "outputs": [],
   "source": []
  }
 ],
 "metadata": {
  "kernelspec": {
   "display_name": "Python 3 (ipykernel)",
   "language": "python",
   "name": "python3"
  },
  "language_info": {
   "codemirror_mode": {
    "name": "ipython",
    "version": 3
   },
   "file_extension": ".py",
   "mimetype": "text/x-python",
   "name": "python",
   "nbconvert_exporter": "python",
   "pygments_lexer": "ipython3",
   "version": "3.12.3"
  }
 },
 "nbformat": 4,
 "nbformat_minor": 5
}
