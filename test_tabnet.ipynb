{
 "cells": [
  {
   "cell_type": "code",
   "execution_count": 2,
   "id": "410463e4-d123-40f9-b52e-6c845ae5d26b",
   "metadata": {},
   "outputs": [
    {
     "name": "stdout",
     "output_type": "stream",
     "text": [
      "True\n",
      "NVIDIA GeForce RTX 4050 Laptop GPU\n"
     ]
    }
   ],
   "source": [
    "import torch\n",
    "print(torch.cuda.is_available())  # должно быть True\n",
    "print(torch.cuda.get_device_name(0))  # покажет название GPU (RTX 4050)\n"
   ]
  },
  {
   "cell_type": "code",
   "execution_count": 8,
   "id": "ae695536-41a1-4bff-b6b7-5f126e6744b1",
   "metadata": {},
   "outputs": [
    {
     "name": "stdout",
     "output_type": "stream",
     "text": [
      "            Open_Time       Open       High        Low      Close      Volume  \\\n",
      "0 2025-02-01 00:00:00  102429.56  102783.71  102198.52  102249.19  1810.34285   \n",
      "1 2025-02-01 04:00:00  102249.19  102588.57  102118.56  102166.49  1052.21801   \n",
      "2 2025-02-01 08:00:00  102166.49  102276.99  101412.00  102028.81  2029.14504   \n",
      "3 2025-02-01 12:00:00  102028.82  102329.01  101730.79  102073.89  1704.67519   \n",
      "4 2025-02-01 16:00:00  102073.89  102297.99  101448.00  101669.60  1472.58058   \n",
      "\n",
      "               Close_Time  Quote_Asset_Volume  Number_of_Trades  \\\n",
      "0 2025-02-01 03:59:59.999        1.855825e+08            336147   \n",
      "1 2025-02-01 07:59:59.999        1.077009e+08            228096   \n",
      "2 2025-02-01 11:59:59.999        2.066930e+08            418187   \n",
      "3 2025-02-01 15:59:59.999        1.740051e+08            385831   \n",
      "4 2025-02-01 19:59:59.999        1.501242e+08            389744   \n",
      "\n",
      "   Taker_Buy_Volume  Taker_Buy_Quote_Volume  \n",
      "0         985.25105            1.010047e+08  \n",
      "1         511.25891            5.232996e+07  \n",
      "2         804.83163            8.197580e+07  \n",
      "3         854.36304            8.721946e+07  \n",
      "4         644.31801            6.570565e+07  \n"
     ]
    }
   ],
   "source": [
    "import pandas as pd\n",
    "\n",
    "# Загрузка файла с назначением имен колонкам\n",
    "df = pd.read_csv('dataset_normalized.csv', names=[\n",
    "    'Open_Time', 'Open', 'High', 'Low', 'Close', 'Volume',\n",
    "    'Close_Time', 'Quote_Asset_Volume', 'Number_of_Trades',\n",
    "    'Taker_Buy_Volume', 'Taker_Buy_Quote_Volume'\n",
    "])\n",
    "\n",
    "# Преобразование временных меток в нормальный формат даты и времени\n",
    "df['Open_Time'] = pd.to_datetime(df['Open_Time'], unit='ms')\n",
    "df['Close_Time'] = pd.to_datetime(df['Close_Time'], unit='ms')\n",
    "\n",
    "# Просмотр первых строк\n",
    "print(df.head())"
   ]
  },
  {
   "cell_type": "code",
   "execution_count": 1,
   "id": "50f09356-1003-4add-83f2-0b4b4aafd2fd",
   "metadata": {},
   "outputs": [
    {
     "name": "stdout",
     "output_type": "stream",
     "text": [
      "       Open_Time       Open       High        Low      Close      Volume  \\\n",
      "0  1738368000000  102429.56  102783.71  102198.52  102249.19  1810.34285   \n",
      "1  1738382400000  102249.19  102588.57  102118.56  102166.49  1052.21801   \n",
      "2  1738396800000  102166.49  102276.99  101412.00  102028.81  2029.14504   \n",
      "3  1738411200000  102028.82  102329.01  101730.79  102073.89  1704.67519   \n",
      "4  1738425600000  102073.89  102297.99  101448.00  101669.60  1472.58058   \n",
      "\n",
      "      Close_Time  Quote_Asset_Volume  Number_of_Trades  Taker_Buy_Volume  \\\n",
      "0  1738382399999        1.855825e+08            336147         985.25105   \n",
      "1  1738396799999        1.077009e+08            228096         511.25891   \n",
      "2  1738411199999        2.066930e+08            418187         804.83163   \n",
      "3  1738425599999        1.740051e+08            385831         854.36304   \n",
      "4  1738439999999        1.501242e+08            389744         644.31801   \n",
      "\n",
      "   Taker_Buy_Quote_Volume  target  \n",
      "0            1.010047e+08       2  \n",
      "1            5.232996e+07       2  \n",
      "2            8.197580e+07       2  \n",
      "3            8.721946e+07       2  \n",
      "4            6.570565e+07       1  \n"
     ]
    }
   ],
   "source": [
    "import pandas as pd\n",
    "\n",
    "df = pd.read_csv('dataset_normalized.csv', names=[\n",
    "    'Open_Time', 'Open', 'High', 'Low', 'Close', 'Volume',\n",
    "    'Close_Time', 'Quote_Asset_Volume', 'Number_of_Trades',\n",
    "    'Taker_Buy_Volume', 'Taker_Buy_Quote_Volume'\n",
    "])\n",
    "\n",
    "# рассчитываем процент изменения цены закрытия относительно следующего периода\n",
    "# т.е. насколько изменится цена на следующей свече (сдвиг вверх на -1)\n",
    "df['price_change_pct'] = df['Close'].pct_change().shift(-1) * 100\n",
    "\n",
    "# определяем функцию для классификации изменения цены в target\n",
    "def classify_change(change):\n",
    "    if change >= 0.75:\n",
    "        return 0  # рост цены >= 0.75%\n",
    "    elif change <= -0.75:\n",
    "        return 1  # падение цены <= -0.75%\n",
    "    else:\n",
    "        return 2  # нейтральное изменение\n",
    "\n",
    "df['target'] = df['price_change_pct'].apply(classify_change)\n",
    "\n",
    "df.dropna(subset=['price_change_pct'], inplace=True)\n",
    "\n",
    "df.drop(columns=['price_change_pct'], inplace=True)\n",
    "\n",
    "df.to_csv('dataset_with_target.csv', index=False)\n",
    "\n",
    "print(df.head())\n",
    "\n"
   ]
  },
  {
   "cell_type": "code",
   "execution_count": 9,
   "id": "8656cf5f-29a0-4675-9735-ad3fe7d8a9fb",
   "metadata": {},
   "outputs": [
    {
     "name": "stderr",
     "output_type": "stream",
     "text": [
      "/usr/local/lib/python3.12/dist-packages/pytorch_tabnet/abstract_model.py:82: UserWarning: Device used : cuda\n",
      "  warnings.warn(f\"Device used : {self.device}\")\n"
     ]
    },
    {
     "name": "stdout",
     "output_type": "stream",
     "text": [
      "epoch 0  | loss: 0.98833 | val_0_accuracy: 0.52407 |  0:00:01s\n",
      "epoch 1  | loss: 0.89252 | val_0_accuracy: 0.52407 |  0:00:02s\n",
      "epoch 2  | loss: 0.88342 | val_0_accuracy: 0.23157 |  0:00:02s\n",
      "epoch 3  | loss: 0.87829 | val_0_accuracy: 0.52407 |  0:00:03s\n",
      "epoch 4  | loss: 0.87435 | val_0_accuracy: 0.52407 |  0:00:03s\n",
      "epoch 5  | loss: 0.87326 | val_0_accuracy: 0.52407 |  0:00:04s\n",
      "epoch 6  | loss: 0.87315 | val_0_accuracy: 0.52407 |  0:00:04s\n",
      "epoch 7  | loss: 0.86972 | val_0_accuracy: 0.52407 |  0:00:05s\n",
      "epoch 8  | loss: 0.86983 | val_0_accuracy: 0.52407 |  0:00:06s\n",
      "epoch 9  | loss: 0.87315 | val_0_accuracy: 0.52407 |  0:00:06s\n",
      "epoch 10 | loss: 0.86866 | val_0_accuracy: 0.52407 |  0:00:07s\n",
      "epoch 11 | loss: 0.8702  | val_0_accuracy: 0.52407 |  0:00:07s\n",
      "epoch 12 | loss: 0.86888 | val_0_accuracy: 0.52407 |  0:00:08s\n",
      "epoch 13 | loss: 0.8682  | val_0_accuracy: 0.52407 |  0:00:09s\n",
      "epoch 14 | loss: 0.86789 | val_0_accuracy: 0.52407 |  0:00:09s\n",
      "epoch 15 | loss: 0.86722 | val_0_accuracy: 0.52407 |  0:00:10s\n",
      "epoch 16 | loss: 0.86709 | val_0_accuracy: 0.52407 |  0:00:10s\n",
      "epoch 17 | loss: 0.87489 | val_0_accuracy: 0.52407 |  0:00:11s\n",
      "epoch 18 | loss: 0.86879 | val_0_accuracy: 0.52407 |  0:00:12s\n",
      "epoch 19 | loss: 0.86785 | val_0_accuracy: 0.52407 |  0:00:12s\n",
      "epoch 20 | loss: 0.86962 | val_0_accuracy: 0.52407 |  0:00:13s\n",
      "\n",
      "Early stopping occurred at epoch 20 with best_epoch = 0 and best_val_0_accuracy = 0.52407\n"
     ]
    },
    {
     "name": "stderr",
     "output_type": "stream",
     "text": [
      "/usr/local/lib/python3.12/dist-packages/pytorch_tabnet/callbacks.py:172: UserWarning: Best weights from best epoch are automatically used!\n",
      "  warnings.warn(wrn_msg)\n"
     ]
    }
   ],
   "source": [
    "from sklearn.model_selection import train_test_split\n",
    "from pytorch_tabnet.tab_model import TabNetClassifier\n",
    "import pandas as pd\n",
    "\n",
    "df = pd.read_csv('dataset_with_target.csv')\n",
    "\n",
    "X = df.drop(columns=['target'])\n",
    "y = df['target']\n",
    "\n",
    "X_train, X_test, y_train, y_test = train_test_split(X, y, test_size=0.2, shuffle=False)\n",
    "\n",
    "clf = TabNetClassifier()\n",
    "clf.fit(X_train.values, y_train.values,\n",
    "        eval_set=[(X_test.values, y_test.values)],\n",
    "        max_epochs=100,\n",
    "        patience=20,\n",
    "        batch_size=1024,\n",
    "        virtual_batch_size=128)"
   ]
  },
  {
   "cell_type": "code",
   "execution_count": 10,
   "id": "4ce67f28-9cf5-4381-b510-49c7a995e97d",
   "metadata": {},
   "outputs": [
    {
     "name": "stdout",
     "output_type": "stream",
     "text": [
      "              precision    recall  f1-score   support\n",
      "\n",
      "           0       0.00      0.00      0.00       802\n",
      "           1       0.00      0.00      0.00       760\n",
      "           2       0.52      1.00      0.69      1720\n",
      "\n",
      "    accuracy                           0.52      3282\n",
      "   macro avg       0.17      0.33      0.23      3282\n",
      "weighted avg       0.27      0.52      0.36      3282\n",
      "\n"
     ]
    },
    {
     "name": "stderr",
     "output_type": "stream",
     "text": [
      "/usr/local/lib/python3.12/dist-packages/sklearn/metrics/_classification.py:1565: UndefinedMetricWarning: Precision is ill-defined and being set to 0.0 in labels with no predicted samples. Use `zero_division` parameter to control this behavior.\n",
      "  _warn_prf(average, modifier, f\"{metric.capitalize()} is\", len(result))\n",
      "/usr/local/lib/python3.12/dist-packages/sklearn/metrics/_classification.py:1565: UndefinedMetricWarning: Precision is ill-defined and being set to 0.0 in labels with no predicted samples. Use `zero_division` parameter to control this behavior.\n",
      "  _warn_prf(average, modifier, f\"{metric.capitalize()} is\", len(result))\n",
      "/usr/local/lib/python3.12/dist-packages/sklearn/metrics/_classification.py:1565: UndefinedMetricWarning: Precision is ill-defined and being set to 0.0 in labels with no predicted samples. Use `zero_division` parameter to control this behavior.\n",
      "  _warn_prf(average, modifier, f\"{metric.capitalize()} is\", len(result))\n"
     ]
    }
   ],
   "source": [
    "from sklearn.metrics import classification_report\n",
    "\n",
    "preds = clf.predict(X_test.values)\n",
    "print(classification_report(y_test, preds))"
   ]
  },
  {
   "cell_type": "code",
   "execution_count": 11,
   "id": "7d780ba2-5c1c-409f-821a-bcd5b05458e8",
   "metadata": {},
   "outputs": [
    {
     "data": {
      "image/png": "[encoded data removed]",
      "text/plain": [
       "<Figure size 640x480 with 1 Axes>"
      ]
     },
     "metadata": {},
     "output_type": "display_data"
    }
   ],
   "source": [
    "import matplotlib.pyplot as plt\n",
    "\n",
    "feat_importances = clf.feature_importances_\n",
    "plt.bar(X.columns, feat_importances)\n",
    "plt.xticks(rotation=90)\n",
    "plt.show()"
   ]
  },
  {
   "cell_type": "code",
   "execution_count": 1,
   "id": "d4c43d9b-2c11-463e-abe9-29dbad709455",
   "metadata": {},
   "outputs": [
    {
     "name": "stdout",
     "output_type": "stream",
     "text": [
      "\u001b[33mDEPRECATION: Loading egg at /usr/local/lib/python3.12/dist-packages/dill-0.3.9-py3.12.egg is deprecated. pip 25.1 will enforce this behaviour change. A possible replacement is to use pip for package installation. Discussion can be found at https://github.com/pypa/pip/issues/12330\u001b[0m\u001b[33m\n",
      "\u001b[0m\u001b[33mDEPRECATION: Loading egg at /usr/local/lib/python3.12/dist-packages/looseversion-1.3.0-py3.12.egg is deprecated. pip 25.1 will enforce this behaviour change. A possible replacement is to use pip for package installation. Discussion can be found at https://github.com/pypa/pip/issues/12330\u001b[0m\u001b[33m\n",
      "\u001b[0m\u001b[33mDEPRECATION: Loading egg at /usr/local/lib/python3.12/dist-packages/lightning_thunder-0.2.2.dev0-py3.12.egg is deprecated. pip 25.1 will enforce this behaviour change. A possible replacement is to use pip for package installation. Discussion can be found at https://github.com/pypa/pip/issues/12330\u001b[0m\u001b[33m\n",
      "\u001b[0m\u001b[33mDEPRECATION: Loading egg at /usr/local/lib/python3.12/dist-packages/lightning_utilities-0.14.0-py3.12.egg is deprecated. pip 25.1 will enforce this behaviour change. A possible replacement is to use pip for package installation. Discussion can be found at https://github.com/pypa/pip/issues/12330\u001b[0m\u001b[33m\n",
      "\u001b[0m\u001b[33mDEPRECATION: Loading egg at /usr/local/lib/python3.12/dist-packages/opt_einsum-3.4.0-py3.12.egg is deprecated. pip 25.1 will enforce this behaviour change. A possible replacement is to use pip for package installation. Discussion can be found at https://github.com/pypa/pip/issues/12330\u001b[0m\u001b[33m\n",
      "\u001b[0m\u001b[33mDEPRECATION: Loading egg at /usr/local/lib/python3.12/dist-packages/nvfuser-0.2.26a0+c5e1555-py3.12-linux-x86_64.egg is deprecated. pip 25.1 will enforce this behaviour change. A possible replacement is to use pip for package installation. Discussion can be found at https://github.com/pypa/pip/issues/12330\u001b[0m\u001b[33m\n",
      "Collecting pandas_ta\n",
      "  Downloading pandas_ta-0.3.14b.tar.gz (115 kB)\n",
      "  Preparing metadata (setup.py) ... \u001b[?25ldone\n",
      "\u001b[?25hRequirement already satisfied: pandas in /usr/local/lib/python3.12/dist-packages (from pandas_ta) (2.2.3)\n",
      "Requirement already satisfied: numpy>=1.26.0 in /usr/local/lib/python3.12/dist-packages (from pandas->pandas_ta) (1.26.4)\n",
      "Requirement already satisfied: python-dateutil>=2.8.2 in /usr/local/lib/python3.12/dist-packages (from pandas->pandas_ta) (2.9.0.post0)\n",
      "Requirement already satisfied: pytz>=2020.1 in /usr/local/lib/python3.12/dist-packages (from pandas->pandas_ta) (2023.4)\n",
      "Requirement already satisfied: tzdata>=2022.7 in /usr/local/lib/python3.12/dist-packages (from pandas->pandas_ta) (2025.1)\n",
      "Requirement already satisfied: six>=1.5 in /usr/local/lib/python3.12/dist-packages (from python-dateutil>=2.8.2->pandas->pandas_ta) (1.16.0)\n",
      "Building wheels for collected packages: pandas_ta\n",
      "  Building wheel for pandas_ta (setup.py) ... \u001b[?25done\n",
      "\u001b[?25h  Created wheel for pandas_ta: filename=pandas_ta-0.3.14b0-py3-none-any.whl size=218986 sha256=ab8890727e59db909cf19a7842264b5397f30f1551b3534107132c19f772f6ae\n",
      "  Stored in directory: /root/.cache/pip/wheels/fd/ed/18/2a12fd1b7906c63efca6accb351929f2c7f6bbc674e1c0ba5d\n",
      "Successfully built pandas_ta\n",
      "Installing collected packages: pandas_ta\n",
      "Successfully installed pandas_ta-0.3.14b0\n",
      "\u001b[33mWARNING: Running pip as the 'root' user can result in broken permissions and conflicting behaviour with the system package manager, possibly rendering your system unusable. It is recommended to use a virtual environment instead: https://pip.pypa.io/warnings/venv. Use the --root-user-action option if you know what you are doing and want to suppress this warning.\u001b[0m\u001b[33m\n",
      "\u001b[0m"
     ]
    }
   ],
   "source": [
    "!pip install pandas_ta"
   ]
  },
  {
   "cell_type": "code",
   "execution_count": 28,
   "id": "246d0b8a-1155-4825-ac07-3d61ee874dab",
   "metadata": {},
   "outputs": [
    {
     "name": "stderr",
     "output_type": "stream",
     "text": [
      "/tmp/ipykernel_143/588085128.py:11: FutureWarning: The argument 'date_parser' is deprecated and will be removed in a future version. Please use 'date_format' instead, or read your data in as 'object' dtype and then call 'to_datetime'.\n",
      "  df = pd.read_csv(\n",
      "/tmp/ipykernel_143/588085128.py:14: FutureWarning: The behavior of 'to_datetime' with 'unit' when parsing strings is deprecated. In a future version, strings will be parsed as datetime strings, matching the behavior without a 'unit'. To retain the old behavior, explicitly cast ints or floats to numeric type before calling to_datetime.\n",
      "  date_parser=lambda x: pd.to_datetime(x, unit='ms')\n",
      "/tmp/ipykernel_143/588085128.py:35: FutureWarning: Series.__getitem__ treating keys as positions is deprecated. In a future version, integer keys will always be treated as labels (consistent with DataFrame behavior). To access a value by position, use `ser.iloc[pos]`\n",
      "  df['EBSW'] = ta.ebsw(df['Close'])\n"
     ]
    },
    {
     "name": "stdout",
     "output_type": "stream",
     "text": [
      "                        Open     High      Low    Close      Volume  \\\n",
      "Open_Time                                                             \n",
      "2017-08-17 08:00:00  4333.32  4485.39  4333.32  4427.30   63.619882   \n",
      "2017-08-17 12:00:00  4436.06  4485.39  4333.42  4352.34  174.562001   \n",
      "2017-08-17 16:00:00  4352.33  4354.84  4200.74  4325.23  225.109716   \n",
      "2017-08-17 20:00:00  4307.56  4369.69  4258.56  4285.08  249.769913   \n",
      "2017-08-18 00:00:00  4285.08  4340.62  4134.61  4292.39  276.193043   \n",
      "\n",
      "                     Quote_Asset_Volume  Number_of_Trades  Taker_Buy_Volume  \\\n",
      "Open_Time                                                                     \n",
      "2017-08-17 08:00:00        2.825012e+05               248         58.787633   \n",
      "2017-08-17 12:00:00        7.742388e+05               858        125.184133   \n",
      "2017-08-17 16:00:00        9.652911e+05               986        165.036363   \n",
      "2017-08-17 20:00:00        1.079545e+06              1001        203.226685   \n",
      "2017-08-18 00:00:00        1.175806e+06              1036        214.655570   \n",
      "\n",
      "                     Taker_Buy_Quote_Volume  target  ...  CMF         VWAP  \\\n",
      "Open_Time                                            ...                     \n",
      "2017-08-17 08:00:00           261054.051154       1  ...  NaN  4415.336667   \n",
      "2017-08-17 12:00:00           555419.758061       2  ...  NaN  4397.048526   \n",
      "2017-08-17 16:00:00           707808.200922       1  ...  NaN  4346.785327   \n",
      "2017-08-17 20:00:00           878286.968557       2  ...  NaN  4331.953849   \n",
      "2017-08-18 00:00:00           915578.053997       2  ...  NaN  4255.873333   \n",
      "\n",
      "                     VWAP_Open_Ratio  High_Low_Ratio  High_Open_Ratio  \\\n",
      "Open_Time                                                               \n",
      "2017-08-17 08:00:00         1.018927        1.035093         1.035093   \n",
      "2017-08-17 12:00:00         0.991206        1.035069         1.011120   \n",
      "2017-08-17 16:00:00         0.998726        1.036684         1.000577   \n",
      "2017-08-17 20:00:00         1.005663        1.026096         1.014423   \n",
      "2017-08-18 00:00:00         0.993184        1.049826         1.012961   \n",
      "\n",
      "                     Close_Open_Ratio  Low_Open_Ratio  Hour  Day  Month  \n",
      "Open_Time                                                                \n",
      "2017-08-17 08:00:00          1.021688        1.000000     8   17      8  \n",
      "2017-08-17 12:00:00          0.981127        0.976862    12   17      8  \n",
      "2017-08-17 16:00:00          0.993773        0.965170    16   17      8  \n",
      "2017-08-17 20:00:00          0.994781        0.988625    20   17      8  \n",
      "2017-08-18 00:00:00          1.001706        0.964885     0   18      8  \n",
      "\n",
      "[5 rows x 26 columns]\n"
     ]
    }
   ],
   "source": [
    "import pandas as pd\n",
    "# import pandas_ta as ta\n",
    "\n",
    "# [\n",
    "#     'Open_Time', 'Open', 'High', 'Low', 'Close', 'Volume',\n",
    "#     'Close_Time', 'Quote_Asset_Volume', 'Number_of_Trades',\n",
    "#     'Taker_Buy_Volume', 'Taker_Buy_Quote_Volume'\n",
    "# ]\n",
    "\n",
    "# Загрузка датасета (предполагается, что столбец с датами называется 'datetime')\n",
    "df = pd.read_csv(\n",
    "    'dataset_with_target.csv',\n",
    "    parse_dates=['Open_Time'],\n",
    "    date_parser=lambda x: pd.to_datetime(x, unit='ms')\n",
    ")\n",
    "df.set_index('Open_Time', inplace=True)\n",
    "\n",
    "df.drop('Close_Time', inplace=True, axis=1)\n",
    "\n",
    "# Преобразуем индекс в DatetimeIndex и сортируем его\n",
    "df.index = pd.to_datetime(df.index)\n",
    "df = df.sort_index()\n",
    "\n",
    "# При необходимости зададим частоту\n",
    "inferred_freq = pd.infer_freq(df.index)\n",
    "if inferred_freq:\n",
    "    df.index.freq = inferred_freq\n",
    "\n",
    "# Разностные признаки для цены закрытия\n",
    "for k in range(1, 6):\n",
    "    df[f'close_diff_{k}'] = df['Close'].diff(k)\n",
    "\n",
    "# EBSW (если функция есть в pandas_ta)\n",
    "try:\n",
    "    df['EBSW'] = ta.ebsw(df['Close'])\n",
    "except Exception as e:\n",
    "    print(\"Функция для EBSW не найдена в pandas_ta:\", e)\n",
    "\n",
    "# Chaikin Money Flow (CMF)\n",
    "df['CMF'] = ta.cmf(high=df['High'], low=df['Low'], close=df['Close'], volume=df['Volume'])\n",
    "\n",
    "# VWAP и отношение VWAP/Open\n",
    "df['VWAP'] = ta.vwap(high=df['High'], low=df['Low'], close=df['Close'], volume=df['Volume'])\n",
    "df['VWAP_Open_Ratio'] = df['VWAP'] / df['Open']\n",
    "\n",
    "# Соотношения цен\n",
    "df['High_Low_Ratio'] = df['High'] / df['Low']\n",
    "df['High_Open_Ratio'] = df['High'] / df['Open']\n",
    "df['Close_Open_Ratio'] = df['Close'] / df['Open']\n",
    "df['Low_Open_Ratio'] = df['Low'] / df['Open']\n",
    "\n",
    "# Извлечение временных признаков\n",
    "df['Hour'] = df.index.hour\n",
    "df['Day'] = df.index.day\n",
    "df['Month'] = df.index.month\n",
    "\n",
    "print(df.head())\n",
    "\n",
    "df.to_csv('dataset_with_indicators.csv')\n"
   ]
  },
  {
   "cell_type": "code",
   "execution_count": 52,
   "id": "7c2c5802-5510-4027-9c3d-08bf618a7987",
   "metadata": {},
   "outputs": [
    {
     "name": "stdout",
     "output_type": "stream",
     "text": [
      "       Open_Time    Open     High      Low    Close     Volume  \\\n",
      "0  1503532800000  4147.0  4204.55  4085.01  4113.58  123.52015   \n",
      "\n",
      "   Quote_Asset_Volume  Number_of_Trades  Taker_Buy_Volume  \\\n",
      "0        511550.36439               903         27.060743   \n",
      "\n",
      "   Taker_Buy_Quote_Volume  ...       CMF     VWAP  VWAP_Open_Ratio  \\\n",
      "0           112391.452409  ...  0.046232  4134.38         0.996957   \n",
      "\n",
      "   High_Low_Ratio  High_Open_Ratio  Close_Open_Ratio  Low_Open_Ratio  Hour  \\\n",
      "0        1.029263         1.013878          0.991941        0.985052     0   \n",
      "\n",
      "   Day  Month  \n",
      "0   24      8  \n",
      "\n",
      "[1 rows x 27 columns]\n",
      "epoch 0  | loss: 1.66614 | val_0_accuracy: 0.17502 |  0:00:00s\n"
     ]
    },
    {
     "name": "stderr",
     "output_type": "stream",
     "text": [
      "/usr/local/lib/python3.12/dist-packages/pytorch_tabnet/abstract_model.py:82: UserWarning: Device used : cuda\n",
      "  warnings.warn(f\"Device used : {self.device}\")\n"
     ]
    },
    {
     "name": "stdout",
     "output_type": "stream",
     "text": [
      "epoch 1  | loss: 1.36543 | val_0_accuracy: 0.23396 |  0:00:00s\n",
      "epoch 2  | loss: 1.20427 | val_0_accuracy: 0.33598 |  0:00:00s\n",
      "epoch 3  | loss: 1.12205 | val_0_accuracy: 0.52932 |  0:00:00s\n",
      "epoch 4  | loss: 1.06833 | val_0_accuracy: 0.57972 |  0:00:00s\n",
      "epoch 5  | loss: 1.03556 | val_0_accuracy: 0.59835 |  0:00:00s\n",
      "epoch 6  | loss: 1.01059 | val_0_accuracy: 0.61668 |  0:00:00s\n",
      "epoch 7  | loss: 1.00011 | val_0_accuracy: 0.61118 |  0:00:00s\n",
      "epoch 8  | loss: 0.99058 | val_0_accuracy: 0.60812 |  0:00:00s\n",
      "epoch 9  | loss: 0.98004 | val_0_accuracy: 0.6121  |  0:00:01s\n",
      "epoch 10 | loss: 0.96924 | val_0_accuracy: 0.61057 |  0:00:01s\n",
      "epoch 11 | loss: 0.96655 | val_0_accuracy: 0.59377 |  0:00:01s\n",
      "epoch 12 | loss: 0.96535 | val_0_accuracy: 0.55987 |  0:00:01s\n",
      "epoch 13 | loss: 0.95754 | val_0_accuracy: 0.57056 |  0:00:01s\n",
      "epoch 14 | loss: 0.93769 | val_0_accuracy: 0.57605 |  0:00:01s\n",
      "epoch 15 | loss: 0.93672 | val_0_accuracy: 0.57819 |  0:00:01s\n",
      "epoch 16 | loss: 0.9412  | val_0_accuracy: 0.47312 |  0:00:01s\n",
      "epoch 17 | loss: 0.93303 | val_0_accuracy: 0.49878 |  0:00:01s\n",
      "epoch 18 | loss: 0.92638 | val_0_accuracy: 0.53238 |  0:00:01s\n",
      "epoch 19 | loss: 0.92064 | val_0_accuracy: 0.50733 |  0:00:01s\n",
      "epoch 20 | loss: 0.91798 | val_0_accuracy: 0.50886 |  0:00:01s\n",
      "epoch 21 | loss: 0.92796 | val_0_accuracy: 0.54154 |  0:00:01s\n",
      "epoch 22 | loss: 0.91986 | val_0_accuracy: 0.53207 |  0:00:01s\n",
      "epoch 23 | loss: 0.91341 | val_0_accuracy: 0.58338 |  0:00:02s\n",
      "epoch 24 | loss: 0.92182 | val_0_accuracy: 0.57147 |  0:00:02s\n",
      "epoch 25 | loss: 0.91497 | val_0_accuracy: 0.59224 |  0:00:02s\n",
      "epoch 26 | loss: 0.91636 | val_0_accuracy: 0.6182  |  0:00:02s\n",
      "epoch 27 | loss: 0.92199 | val_0_accuracy: 0.63073 |  0:00:02s\n",
      "epoch 28 | loss: 0.91192 | val_0_accuracy: 0.64783 |  0:00:02s\n",
      "epoch 29 | loss: 0.91117 | val_0_accuracy: 0.65394 |  0:00:02s\n",
      "epoch 30 | loss: 0.90725 | val_0_accuracy: 0.65486 |  0:00:02s\n",
      "epoch 31 | loss: 0.90587 | val_0_accuracy: 0.65425 |  0:00:02s\n",
      "epoch 32 | loss: 0.91604 | val_0_accuracy: 0.65699 |  0:00:02s\n",
      "epoch 33 | loss: 0.9075  | val_0_accuracy: 0.65516 |  0:00:02s\n",
      "epoch 34 | loss: 0.91352 | val_0_accuracy: 0.65577 |  0:00:02s\n",
      "epoch 35 | loss: 0.90961 | val_0_accuracy: 0.65119 |  0:00:03s\n",
      "epoch 36 | loss: 0.91613 | val_0_accuracy: 0.64569 |  0:00:03s\n",
      "epoch 37 | loss: 0.9063  | val_0_accuracy: 0.63622 |  0:00:03s\n",
      "epoch 38 | loss: 0.90833 | val_0_accuracy: 0.63134 |  0:00:03s\n",
      "epoch 39 | loss: 0.91022 | val_0_accuracy: 0.61729 |  0:00:03s\n",
      "epoch 40 | loss: 0.9052  | val_0_accuracy: 0.61881 |  0:00:04s\n",
      "epoch 41 | loss: 0.90896 | val_0_accuracy: 0.61668 |  0:00:04s\n",
      "epoch 42 | loss: 0.90439 | val_0_accuracy: 0.60721 |  0:00:04s\n",
      "epoch 43 | loss: 0.90565 | val_0_accuracy: 0.60812 |  0:00:04s\n",
      "epoch 44 | loss: 0.90712 | val_0_accuracy: 0.60293 |  0:00:04s\n",
      "epoch 45 | loss: 0.90966 | val_0_accuracy: 0.59774 |  0:00:04s\n",
      "epoch 46 | loss: 0.90678 | val_0_accuracy: 0.59316 |  0:00:04s\n",
      "epoch 47 | loss: 0.89915 | val_0_accuracy: 0.59346 |  0:00:04s\n",
      "epoch 48 | loss: 0.90977 | val_0_accuracy: 0.58888 |  0:00:04s\n",
      "epoch 49 | loss: 0.91412 | val_0_accuracy: 0.5898  |  0:00:04s\n",
      "epoch 50 | loss: 0.91193 | val_0_accuracy: 0.58552 |  0:00:04s\n",
      "epoch 51 | loss: 0.89935 | val_0_accuracy: 0.58522 |  0:00:04s\n",
      "epoch 52 | loss: 0.90836 | val_0_accuracy: 0.58094 |  0:00:04s\n",
      "\n",
      "Early stopping occurred at epoch 52 with best_epoch = 32 and best_val_0_accuracy = 0.65699\n"
     ]
    },
    {
     "name": "stderr",
     "output_type": "stream",
     "text": [
      "/usr/local/lib/python3.12/dist-packages/pytorch_tabnet/callbacks.py:172: UserWarning: Best weights from best epoch are automatically used!\n",
      "  warnings.warn(wrn_msg)\n"
     ]
    }
   ],
   "source": [
    "import pandas as pd\n",
    "from sklearn.model_selection import train_test_split\n",
    "from pytorch_tabnet.tab_model import TabNetClassifier\n",
    "\n",
    "# Загрузим данные полностью\n",
    "df = pd.read_csv('dataset_with_indicators.csv')\n",
    "\n",
    "# Пропустим первые 40 строк\n",
    "df = df.iloc[40:].reset_index(drop=True)\n",
    "\n",
    "# Преобразуем в timestamp\n",
    "df['Open_Time'] = pd.to_datetime(df['Open_Time'], format='%Y-%m-%d %H:%M:%S').astype('int64') // 10**6\n",
    "\n",
    "# Посмотрим первые несколько строк, чтобы понять структуру\n",
    "print(df.head(1))\n",
    "\n",
    "# Разделим на признаки и целевую переменную\n",
    "X = df.drop(columns=['target'])\n",
    "y = df['target']\n",
    "\n",
    "# Разделим на обучающую и тестовую выборки\n",
    "X_train, X_test, y_train, y_test = train_test_split(X, y, test_size=0.2, shuffle=False)\n",
    "\n",
    "# Обучим модель\n",
    "clf = TabNetClassifier(\n",
    "    device_name=\"cuda\"\n",
    ")\n",
    "clf.fit(\n",
    "    X_train.values, y_train.values,\n",
    "    eval_set=[(X_test.values, y_test.values)],\n",
    "    max_epochs=100,\n",
    "    patience=20,\n",
    "    batch_size=8192,\n",
    "    virtual_batch_size=4096\n",
    ")"
   ]
  },
  {
   "cell_type": "code",
   "execution_count": 53,
   "id": "5494ca2e-db7b-4044-9ed7-155ecd7fb415",
   "metadata": {},
   "outputs": [
    {
     "name": "stdout",
     "output_type": "stream",
     "text": [
      "              precision    recall  f1-score   support\n",
      "\n",
      "           0       0.23      0.07      0.11       552\n",
      "           1       0.18      0.03      0.05       484\n",
      "           2       0.69      0.94      0.80      2238\n",
      "\n",
      "    accuracy                           0.66      3274\n",
      "   macro avg       0.37      0.35      0.32      3274\n",
      "weighted avg       0.54      0.66      0.57      3274\n",
      "\n"
     ]
    }
   ],
   "source": [
    "from sklearn.metrics import classification_report\n",
    "\n",
    "preds = clf.predict(X_test.values)\n",
    "print(classification_report(y_test, preds))"
   ]
  },
  {
   "cell_type": "code",
   "execution_count": 54,
   "id": "145f6afd-4592-4ebe-acd9-ff7b2859c4f4",
   "metadata": {},
   "outputs": [
    {
     "data": {
      "image/png": "[encoded data removed]",
      "text/plain": [
       "<Figure size 640x480 with 1 Axes>"
      ]
     },
     "metadata": {},
     "output_type": "display_data"
    }
   ],
   "source": [
    "import matplotlib.pyplot as plt\n",
    "\n",
    "feat_importances = clf.feature_importances_\n",
    "plt.bar(X.columns, feat_importances)\n",
    "plt.xticks(rotation=90)\n",
    "plt.show()"
   ]
  },
  {
   "cell_type": "code",
   "execution_count": null,
   "id": "10b4ef1e-b4e6-459c-b4ca-93157fa27ea7",
   "metadata": {},
   "outputs": [],
   "source": []
  },
  {
   "cell_type": "code",
   "execution_count": null,
   "id": "ddd13915-e9e9-46c1-8f56-515f6740e744",
   "metadata": {},
   "outputs": [],
   "source": []
  }
 ],
 "metadata": {
  "kernelspec": {
   "display_name": "Python 3 (ipykernel)",
   "language": "python",
   "name": "python3"
  },
  "language_info": {
   "codemirror_mode": {
    "name": "ipython",
    "version": 3
   },
   "file_extension": ".py",
   "mimetype": "text/x-python",
   "name": "python",
   "nbconvert_exporter": "python",
   "pygments_lexer": "ipython3",
   "version": "3.12.3"
  }
 },
 "nbformat": 4,
 "nbformat_minor": 5
}
